{
 "cells": [
  {
   "cell_type": "code",
   "execution_count": 171,
   "metadata": {},
   "outputs": [
    {
     "name": "stdout",
     "output_type": "stream",
     "text": [
      "--- DIFFERENTIAL DRAG CONTROL - TWO SATELLITES SCENARIO ---\n",
      "The Space Weather files 'SOLFSMY.TXT' and 'DTCFILE.TXT' in C:\\Users\\Lorenzo/src/sw-data/ are already the latest.\n"
     ]
    }
   ],
   "source": [
    "## --- 2 SATELLITES DIFFERENTIAL DRAG ALGORITHM ---\n",
    "\n",
    "from astropy import units as u\n",
    "\n",
    "from poliastro.bodies import Earth\n",
    "from poliastro.constants import rho0_earth, H0_earth\n",
    "from poliastro.twobody import Orbit\n",
    "from poliastro.twobody.propagation import CowellPropagator\n",
    "from poliastro.twobody.elements import mean_motion\n",
    "from poliastro.core.perturbations import J2_perturbation, atmospheric_drag_exponential\n",
    "from poliastro.core.propagation import func_twobody \n",
    "from poliastro.util import Time\n",
    "\n",
    "from atmo_drag_functions import jb2008_pertubation\n",
    "from pyatmos import download_sw_jb2008,read_sw_jb2008\n",
    "\n",
    "\n",
    "from numba import njit as jit\n",
    "\n",
    "import pandas as pd\n",
    "import numpy as np\n",
    "\n",
    "import matplotlib.pyplot as plt\n",
    "\n",
    "print('--- DIFFERENTIAL DRAG CONTROL - TWO SATELLITES SCENARIO ---')\n",
    "\n",
    "## 1 - INITIALIZATION\n",
    "\n",
    "# initial orbital elements of FLOCK 1C-1 (40027) and FLOCK 1C-2 (40029) from TLEs\n",
    "# Constellation parameters\n",
    "T = 2\n",
    "\n",
    "# Assumptions: same spacecrafts, same orbital plane\n",
    "# CHASER (1):\n",
    "a_1, ecc_1, inc_1, raan_1, argp_1, nu_1 = 6995 * u.km, 0.001 * u.one, 97.98 * u.deg, 69 * u.deg, 275 * u.deg, 80 * u.deg\n",
    "\n",
    "# TARGET (2):\n",
    "a_2, ecc_2, inc_2, raan_2, argp_2, nu_2 = 6990 * u.km, 0.001 * u.one, 97.98 * u.deg, 69 * u.deg, 275 * u.deg, 160 * u.deg \n",
    "\n",
    "# Let's assign the same start date to the satellites\n",
    "start_date = Time(\"2014-04-17 13:12:43.89\", scale = \"utc\")\n",
    "\n",
    "# definition of initial orbits by using poliastro\n",
    "in_orbit_1 = Orbit.from_classical(Earth, a_1, ecc_1, inc_1, raan_1, argp_1, nu_1, start_date)\n",
    "in_orbit_2 = Orbit.from_classical(Earth, a_2, ecc_2, inc_2, raan_2, argp_2, nu_2, start_date)\n",
    "\n",
    "# Constants\n",
    "R  = Earth.R.to(u.km).value\n",
    "k  = Earth.k.to(u.km**3 / u.s**2).value\n",
    "J2 = Earth.J2.value\n",
    "swfile = download_sw_jb2008() \n",
    "swdata = read_sw_jb2008(swfile) \n",
    "\n",
    "\n",
    "rho0 = rho0_earth.to(u.kg/u.km**3).value\n",
    "H0   = H0_earth.to(u.km).value\n",
    "\n",
    "C_D = 2.2\n",
    "LD_A_over_m = ((0.01 * u.m**2) / (1 * u.kg)).to_value(u.km**2 / u.kg)   # km**2/kg\n",
    "HD_A_over_m = ((100 * u.m**2) / (1 * u.kg)).to_value(u.km**2 / u.kg)   # km**2/kg\n",
    "LD_B = C_D * LD_A_over_m   # ballistic coefficient at low drag mode\n",
    "HD_B = C_D * HD_A_over_m   # ballistic coefficient at high drag mode\n",
    "\n",
    "\n",
    "\n",
    "in_state_1 = in_orbit_1.rv()\n",
    "in_state_2 = in_orbit_2.rv()"
   ]
  },
  {
   "cell_type": "code",
   "execution_count": 172,
   "metadata": {},
   "outputs": [],
   "source": [
    "array_1 = np.array([*in_state_1[0].value, *in_state_1[1].value])\n",
    "array_2 = np.array([*in_state_2[0].value, *in_state_2[1].value])"
   ]
  },
  {
   "cell_type": "code",
   "execution_count": 180,
   "metadata": {},
   "outputs": [
    {
     "name": "stdout",
     "output_type": "stream",
     "text": [
      "1.966403863921548e-15\n",
      "1.9664038639215482e-19\n"
     ]
    }
   ],
   "source": [
    "\n",
    "#@jit\n",
    "def a_d(state, R, C_D, A_over_m, epoch, swdata):\n",
    "    return jb2008_pertubation(\n",
    "        epoch, state, R, C_D, A_over_m, swdata\n",
    "    )\n",
    "\n",
    "HD_acc = a_d(epoch=start_date.value, state=array_1, R=R, C_D=C_D, A_over_m=HD_A_over_m, swdata=swdata)\n",
    "LD_acc = a_d(epoch=start_date.value, state=array_1, R=R, C_D=C_D, A_over_m=LD_A_over_m, swdata=swdata)\n",
    "\n",
    "print(f'{np.linalg.norm(HD_acc)}\\n{np.linalg.norm(LD_acc)}')\n"
   ]
  },
  {
   "cell_type": "code",
   "execution_count": 181,
   "metadata": {},
   "outputs": [
    {
     "data": {
      "text/plain": [
       "80.03680077140977"
      ]
     },
     "execution_count": 181,
     "metadata": {},
     "output_type": "execute_result"
    }
   ],
   "source": [
    "unit_in_1_r = in_state_1[0] / np.linalg.norm(in_state_1[0])\n",
    "unit_in_1_v = in_state_1[1] / np.linalg.norm(in_state_1[1])\n",
    "unit_in_2_r = in_state_2[0] / np.linalg.norm(in_state_2[0])\n",
    "unit_in_2_v = in_state_2[1] / np.linalg.norm(in_state_2[1])\n",
    "\n",
    "dot_product_r = np.dot(unit_in_2_r, unit_in_1_r)\n",
    "dot_product_v = np.dot(unit_in_2_v, unit_in_1_v)\n",
    "\n",
    "theta     = np.arccos(dot_product_r).to_value(u.deg)\n",
    "theta_dot = np.arccos(dot_product_v).to_value(u.deg)\n",
    "\n",
    "theta     = np.arccos(dot_product_r).to_value(u.deg)\n",
    "theta_dot = np.arccos(dot_product_v).to_value(u.deg)\n",
    "\n",
    "theta_dot"
   ]
  },
  {
   "cell_type": "code",
   "execution_count": 183,
   "metadata": {},
   "outputs": [
    {
     "data": {
      "text/plain": [
       "(<Quantity 0.00108054 rad / s>, <Quantity 0.00108054 rad / s>)"
      ]
     },
     "execution_count": 183,
     "metadata": {},
     "output_type": "execute_result"
    }
   ],
   "source": [
    "def f_LD(t0, state, k):\n",
    "\n",
    "    du_kep = func_twobody(t0, state, k)\n",
    "    ax, ay, az = a_d(state, \n",
    "                     R = R, \n",
    "                     C_D = C_D, \n",
    "                     A_over_m = LD_A_over_m,\n",
    "                     epoch=start_date.value, \n",
    "                     swdata=swdata)\n",
    "    du_ad = np.array([0, 0, 0, ax, ay, az])\n",
    "\n",
    "    return du_kep + du_ad\n",
    "\n",
    "def f_HD(t0, state, k):\n",
    "\n",
    "    du_kep = func_twobody(t0, state, k)\n",
    "    ax, ay, az = a_d(state,  \n",
    "                     R = R, \n",
    "                     C_D = C_D, \n",
    "                     A_over_m = HD_A_over_m*10,\n",
    "                     epoch=start_date.value,\n",
    "                     swdata=swdata)\n",
    "    du_ad = np.array([0, 0, 0, ax, ay, az])\n",
    "\n",
    "    return du_kep + du_ad\n",
    "\n",
    "LD_mode = in_orbit_1.propagate(30*u.day, method=CowellPropagator(rtol=1e-5, f=f_LD))\n",
    "HD_mode = in_orbit_1.propagate(30*u.day, method=CowellPropagator(rtol=1e-5, f=f_HD))\n",
    "\n",
    "LD_mode.n, HD_mode.n"
   ]
  },
  {
   "cell_type": "code",
   "execution_count": 184,
   "metadata": {},
   "outputs": [
    {
     "data": {
      "text/plain": [
       "(<Quantity 6989.04814259 km>, <Quantity 6989.04808175 km>)"
      ]
     },
     "execution_count": 184,
     "metadata": {},
     "output_type": "execute_result"
    }
   ],
   "source": [
    "LD_mode.a, HD_mode.a"
   ]
  },
  {
   "cell_type": "code",
   "execution_count": null,
   "metadata": {},
   "outputs": [],
   "source": [
    "LD_mode.n == "
   ]
  },
  {
   "cell_type": "code",
   "execution_count": 187,
   "metadata": {},
   "outputs": [],
   "source": [
    "unit_HD_acc = HD_acc / np.linalg.norm(HD_acc)\n",
    "unit_LD_acc = LD_acc / np.linalg.norm(LD_acc)\n",
    "\n",
    "dot_product_acc = np.dot(unit_HD_acc, unit_LD_acc)\n",
    "unit_HD_acc, unit_LD_acc\n",
    "# theta_dot_dot   = ((np.arccos(dot_product_acc)) * u.rad).to_value(u.deg)\n",
    "# theta_dot_dot\n",
    "\n",
    "theta_dot_dot = HD_acc - LD_acc"
   ]
  },
  {
   "cell_type": "code",
   "execution_count": 88,
   "metadata": {},
   "outputs": [
    {
     "name": "stdout",
     "output_type": "stream",
     "text": [
      "delta_t_wait = nan\n",
      "delta_t_hd   = nan\n"
     ]
    }
   ],
   "source": [
    "theta_des     = 45\n",
    "theta_dot_des = 0\n",
    "delta_t_hd =  (theta_dot / theta_dot_dot)\n",
    "theta_hd = 0.5 * theta_dot_dot * (delta_t_hd**2)\n",
    "delta_t_wait = np.absolute((theta_hd - theta_des)) / theta_dot\n",
    "\n",
    "print(f'delta_t_wait = {delta_t_wait}\\ndelta_t_hd   = {delta_t_hd}')"
   ]
  },
  {
   "cell_type": "code",
   "execution_count": null,
   "metadata": {},
   "outputs": [],
   "source": []
  }
 ],
 "metadata": {
  "kernelspec": {
   "display_name": "Python 3",
   "language": "python",
   "name": "python3"
  },
  "language_info": {
   "codemirror_mode": {
    "name": "ipython",
    "version": 3
   },
   "file_extension": ".py",
   "mimetype": "text/x-python",
   "name": "python",
   "nbconvert_exporter": "python",
   "pygments_lexer": "ipython3",
   "version": "3.9.10"
  }
 },
 "nbformat": 4,
 "nbformat_minor": 2
}
