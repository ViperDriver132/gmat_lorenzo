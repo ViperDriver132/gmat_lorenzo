{
 "cells": [
  {
   "cell_type": "code",
   "execution_count": 20,
   "metadata": {},
   "outputs": [],
   "source": [
    "import pandas as pd\n",
    "import matplotlib.pyplot as plt\n",
    "import numpy as np\n",
    "from statistics import mean\n",
    "\n",
    "# path_to_txt = 'C:/Users/egeme/Desktop/Kuva/GMAT_OrbitalSims/LTDN1030/12U/12U_350/Exotrail/Detailed/12U_ExotrailM+_PerpendicularLifetime.txt'\n",
    "# path_to_txt = 'C:/Users/egeme/Desktop/Kuva/GMAT_OrbitalSims/LTDN1030/12U/12U_350/Exotrail/Detailed/12U_ExotrailM+_Lifetime.txt'\n",
    "\n",
    "# path_to_txt = 'C:/Users/egeme/Desktop/Kuva/GMAT_OrbitalSims/LTDN1030/12U/12U_350/Exotrail/Detailed/16U_Exotrail_LifetimeL_Perpendicular.txt'\n",
    "path_to_txt = 'C:/Users/egeme/Desktop/Kuva/GMAT_OrbitalSims/LTDN1030/12U/12U_350/Exotrail/Detailed/16U_Exotrail_LifetimeL_MidSFU.txt'\n",
    "# path_to_txt = 'C:/Users/egeme/Desktop/Kuva/GMAT_OrbitalSims/LTDN1030/12U/12U_350/Exotrail/Detailed/16U_Exotrail_LifetimeL_LowSFU.txt'\n",
    "\n",
    "dataset = pd.read_fwf(path_to_txt)"
   ]
  },
  {
   "cell_type": "code",
   "execution_count": 21,
   "metadata": {},
   "outputs": [],
   "source": [
    "filename = path_to_txt.split('/')[-1].split('_')\n",
    "\n",
    "if filename[0] == '12U':\n",
    "    satellite_mass = 20\n",
    "else:\n",
    "    satellite_mass = 25"
   ]
  },
  {
   "cell_type": "code",
   "execution_count": 22,
   "metadata": {},
   "outputs": [],
   "source": [
    "elapsed_days = dataset['SC.ElapsedDays'].values.tolist()\n",
    "alt_list = dataset['SC.Earth.Altitude'].values.tolist()\n",
    "fuel_qty = dataset['SC.ElectricTank1.FuelMass'].values.tolist()\n",
    "sma_list = dataset['SC.Earth.SMA'].values.tolist()\n",
    "number_of_burns = dataset['Number_Of_Burns'].values.tolist()\n",
    "burn_durations = dataset['BurnDur550'].values.tolist()\n",
    "\n",
    "changelist = [i for i in range(1,len(fuel_qty)) if fuel_qty[i]!=fuel_qty[i-1] ]\n",
    "\n",
    "# Drag area during descent, %20 duty cycle\n",
    "# Drag area during mission, full streamlined\n",
    "\n",
    "# Exotrail L, 0.7kg fuel mass\n",
    "# Exotrail M+, 0.4kg fuel mass\n",
    "# 2.5e-3 N, 800s Isp\n",
    "\n",
    "# SFU\n",
    "# Low = 130 \n",
    "# Mid  = 160\n",
    "# Default = 190"
   ]
  },
  {
   "cell_type": "code",
   "execution_count": 24,
   "metadata": {},
   "outputs": [
    {
     "name": "stdout",
     "output_type": "stream",
     "text": [
      "Simulation Duration: 2070.46 days\n",
      "Time from deployment to mission altitude: 116.17 days\n",
      "Time spent on mission altitude: 1719.6 days\n",
      "Decay time after misson: 234.69 days\n",
      "\n",
      "Satellite wet mass: 25 kg\n",
      "Satellite dry mass 24.3 kg\n",
      "\n",
      "Max Δv provided by the thruster: 222.88 m/s\n",
      "Number of Burns: 1194\n",
      "Longest burn duration: 2199.34 s\n",
      "Shortest burn duration: 1423.66 s\n",
      "Average burn duration: 1859.78 s\n",
      "Burn frequency: 0.69 burns per day\n"
     ]
    }
   ],
   "source": [
    "print('Simulation Duration:', round(max(elapsed_days),2),'days')\n",
    "print('Time from deployment to mission altitude:', round(elapsed_days[changelist[1]],2),'days')\n",
    "print('Time spent on mission altitude:', round(elapsed_days[changelist[-1]]-elapsed_days[changelist[0]],2),'days')\n",
    "print('Decay time after misson:', round(max(elapsed_days)-elapsed_days[changelist[-1]],2),'days\\n')\n",
    "\n",
    "print('Satellite wet mass:', satellite_mass,'kg')\n",
    "print('Satellite dry mass', satellite_mass-max(fuel_qty),'kg\\n')\n",
    "\n",
    "print('Max Δv provided by the thruster:', round(800*9.81*np.log(satellite_mass/(satellite_mass-max(fuel_qty))),2),'m/s')\n",
    "print('Number of Burns:', max(number_of_burns))\n",
    "print('Longest burn duration:', round(max(burn_durations),2),'s')\n",
    "print('Shortest burn duration:', round(min(burn_durations[changelist[0]:]),2),'s')\n",
    "print('Average burn duration:', round(mean(burn_durations[changelist[0]:]),2),'s')\n",
    "print('Burn frequency:', round( max(number_of_burns) / (elapsed_days[changelist[-1]]-elapsed_days[changelist[0]]) ,2),'burns per day')"
   ]
  },
  {
   "cell_type": "code",
   "execution_count": null,
   "metadata": {},
   "outputs": [],
   "source": [
    "max_lenght = round(max(elapsed_days),2)\n",
    "message = str(max_lenght) + ' days, ' + str(round(max_lenght/365,2)) +' years'\n",
    "missiontime = 'Mission elapsed time ' + str(round(elapsed_days[changelist[-1]]-elapsed_days[changelist[0]],2)) + ' days'\n",
    "\n",
    "plt.figure(figsize=(16,9.6))\n",
    "plt.title('SMA vs Elapsed Days')\n",
    "plt.ylabel('SMA (km)')\n",
    "plt.xlabel('Elapsed Days')\n",
    "plt.plot(elapsed_days,sma_list)\n",
    "plt.text(elapsed_days[-1],6450,message,color='b', rotation=90)\n",
    "plt.axhline(350+6368.14, color='r', linestyle='--')\n",
    "plt.axvline(elapsed_days[changelist[0]],0,0.81,color='purple',linestyle='-.')\n",
    "plt.axvline(elapsed_days[changelist[-1]], 0,0.81,color='purple',linestyle='-.')\n",
    "\n",
    "# plt.axhline(6378.14,0,color='black')\n",
    "\n",
    "\n",
    "plt.text((elapsed_days[-1]+elapsed_days[0])/2,6450, missiontime, color='purple')\n",
    "plt.text(elapsed_days[changelist[0]], 6450, 'Mission begin at 88.15 days' ,color='purple',rotation=90 )\n",
    "plt.text(elapsed_days[changelist[-1]], 6450, 'Mission end at 1356.95 days' ,color='purple',rotation=90 )\n",
    "plt.show()\n",
    "\n",
    "fig = plt.figure(figsize=(16,9))\n",
    "# plt.figure(figsize=(16,9.6))\n",
    "plt.plot(elapsed_days,alt_list)\n",
    "# plt.axhline(100,0,color='black',linestyle='dotted')\n",
    "plt.show()\n",
    "\n",
    "plt.figure(figsize=(16,9.6))\n",
    "plt.plot(elapsed_days,fuel_qty)\n",
    "plt.show()\n"
   ]
  },
  {
   "cell_type": "code",
   "execution_count": null,
   "metadata": {},
   "outputs": [],
   "source": []
  }
 ],
 "metadata": {
  "kernelspec": {
   "display_name": ".venv",
   "language": "python",
   "name": "python3"
  },
  "language_info": {
   "codemirror_mode": {
    "name": "ipython",
    "version": 3
   },
   "file_extension": ".py",
   "mimetype": "text/x-python",
   "name": "python",
   "nbconvert_exporter": "python",
   "pygments_lexer": "ipython3",
   "version": "3.10.6"
  },
  "orig_nbformat": 4
 },
 "nbformat": 4,
 "nbformat_minor": 2
}
