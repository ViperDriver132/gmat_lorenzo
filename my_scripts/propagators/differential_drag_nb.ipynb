{
 "cells": [
  {
   "cell_type": "code",
   "execution_count": 37,
   "metadata": {},
   "outputs": [
    {
     "name": "stdout",
     "output_type": "stream",
     "text": [
      "DIFFERENTIAL DRAG CONTROL - 2 SATELLITES\n"
     ]
    }
   ],
   "source": [
    "## --- 2 SATELLITES DIFFERENTIAL DRAG ALGORITHM ---\n",
    "\n",
    "from astropy import units as u\n",
    "\n",
    "from poliastro.bodies import Earth\n",
    "from poliastro.constants import rho0_earth, H0_earth\n",
    "from poliastro.twobody import Orbit\n",
    "from poliastro.twobody.propagation import CowellPropagator\n",
    "from poliastro.core.perturbations import J2_perturbation, atmospheric_drag_exponential\n",
    "from poliastro.core.propagation import func_twobody \n",
    "from poliastro.util import Time\n",
    "\n",
    "from numba import njit as jit\n",
    "\n",
    "import pandas as pd\n",
    "import numpy as np\n",
    "\n",
    "import matplotlib.pyplot as plt\n",
    "\n",
    "print('DIFFERENTIAL DRAG CONTROL - 2 SATELLITES')\n",
    "\n",
    "## 1 - INITIALIZATION\n",
    "\n",
    "# initial orbital elements of FLOCK 1C-1 (40027) and FLOCK 1C-2 (40029) from TLEs\n",
    "# Constellation parameters\n",
    "T = 2\n",
    "\n",
    "# FLOCK 1C-1:\n",
    "a1, ecc1, inc1, raan1, argp1, nu1 = 6991.261179 * u.km, 0.0011698 * u.one, 97.98 * u.deg, 69.1 * u.deg, 278.7152 * u.deg, 81.2675 * u.deg \n",
    "n1 = 14.85147101   # mean motion [revolutions per day]\n",
    "\n",
    "# FLOCK 1C-2:\n",
    "a2, ecc2, inc2, raan2, argp2, nu2 = 6992.126263 * u.km, 0.0012992 * u.one, 97.98 * u.deg, 69.1 * u.deg, 275.1305 * u.deg, 84.8392 * u.deg \n",
    "n2 = 14.8487149   # mean motion [revolutions per day]\n",
    "\n",
    "# Let's suppose the same start date (1C-1 has been selected, they differ by around 4 hours)\n",
    "start_date = Time(\"2014-04-17 13:12:43.89\", scale = \"utc\")\n",
    "\n",
    "# definition of initial orbits by using poliastro\n",
    "in_orbit_1 = Orbit.from_classical(Earth, a1, ecc1, inc1, raan1, argp1, nu1, start_date)\n",
    "in_orbit_2 = Orbit.from_classical(Earth, a2, ecc2, inc2, raan2, argp2, nu2, start_date)\n",
    "\n",
    "# Constants\n",
    "R  = Earth.R.to(u.km).value\n",
    "k  = Earth.k.to(u.km**3 / u.s**2).value\n",
    "J2 = Earth.J2.value\n",
    "\n",
    "rho0 = rho0_earth.to(u.kg/u.km**3).value\n",
    "H0   = H0_earth.to(u.km).value\n",
    "\n",
    "C_D = 2.2\n",
    "LD_A_over_m = ((np.pi/4.0) * (0.01 * u.m**2) / (5 * u.kg)).to_value(u.km**2 / u.kg)   # km**2/kg\n",
    "HD_A_over_m = ((np.pi/4.0) * (1 * u.m**2) / (5 * u.kg)).to_value(u.km**2 / u.kg)   # km**2/kg\n",
    "LD_B = C_D * LD_A_over_m   # ballistic coefficient at low drag mode\n",
    "HD_B = C_D * LD_A_over_m   # ballistic coefficient at high drag mode"
   ]
  },
  {
   "cell_type": "code",
   "execution_count": 38,
   "metadata": {},
   "outputs": [
    {
     "data": {
      "text/plain": [
       "0.020892355137249217"
      ]
     },
     "execution_count": 38,
     "metadata": {},
     "output_type": "execute_result"
    }
   ],
   "source": [
    "in_orbit_1_state = in_orbit_1.rv()\n",
    "in_orbit_2_state = in_orbit_2.rv()\n",
    "\n",
    "\n",
    "unit_in_1_r = in_orbit_1_state[0] / np.linalg.norm(in_orbit_1_state[0])\n",
    "unit_in_1_v = in_orbit_1_state[1] / np.linalg.norm(in_orbit_1_state[1])\n",
    "unit_in_2_r = in_orbit_2_state[0] / np.linalg.norm(in_orbit_2_state[0])\n",
    "unit_in_2_v = in_orbit_2_state[1] / np.linalg.norm(in_orbit_2_state[1])\n",
    "\n",
    "dot_product_r = np.dot(unit_in_2_r, unit_in_1_r)\n",
    "dot_product_v = np.dot(unit_in_2_v, unit_in_1_v)\n",
    "\n",
    "theta     = np.arccos(dot_product_r).to_value(u.deg)\n",
    "theta_dot = np.arccos(dot_product_v).to_value(u.deg)\n",
    "\n",
    "\n",
    "theta_dot"
   ]
  },
  {
   "cell_type": "code",
   "execution_count": 29,
   "metadata": {},
   "outputs": [],
   "source": [
    "array_2 = np.array([*in_orbit_2_state[0].value, *in_orbit_2_state[1].value])"
   ]
  },
  {
   "cell_type": "code",
   "execution_count": 39,
   "metadata": {},
   "outputs": [],
   "source": [
    "HD_acc = np.array([-0.002918724396726117, -0.007626584869733477, 4.284739870717955e-06])\n",
    "LD_acc = np.array([-0.002980756990203079, -0.007583139119009421, -0.000520680685874514])"
   ]
  },
  {
   "cell_type": "code",
   "execution_count": 40,
   "metadata": {},
   "outputs": [
    {
     "data": {
      "text/plain": [
       "3.722456203627599"
      ]
     },
     "execution_count": 40,
     "metadata": {},
     "output_type": "execute_result"
    }
   ],
   "source": [
    "unit_HD_acc = HD_acc / np.linalg.norm(HD_acc)\n",
    "unit_LD_acc = LD_acc / np.linalg.norm(LD_acc)\n",
    "\n",
    "dot_product_acc = np.dot(unit_HD_acc, unit_LD_acc)\n",
    "theta_dot_dot   = ((np.arccos(dot_product_acc)) * u.rad).to_value(u.deg)\n",
    "theta_dot_dot"
   ]
  },
  {
   "cell_type": "code",
   "execution_count": 41,
   "metadata": {},
   "outputs": [
    {
     "name": "stdout",
     "output_type": "stream",
     "text": [
      "delta_t_wait = 2153.8951006247216\n",
      "delta_t_hd   = 0.005612518722688866\n"
     ]
    }
   ],
   "source": [
    "theta_des     = 45\n",
    "theta_dot_des = 0\n",
    "delta_t_hd =  (theta_dot / theta_dot_dot)\n",
    "theta_hd = 0.5 * theta_dot_dot * (delta_t_hd**2)\n",
    "delta_t_wait = np.absolute((theta_hd - theta_des)) / theta_dot\n",
    "\n",
    "print(f'delta_t_wait = {delta_t_wait}\\ndelta_t_hd   = {delta_t_hd}')"
   ]
  },
  {
   "cell_type": "code",
   "execution_count": null,
   "metadata": {},
   "outputs": [],
   "source": []
  }
 ],
 "metadata": {
  "kernelspec": {
   "display_name": "Python 3",
   "language": "python",
   "name": "python3"
  },
  "language_info": {
   "codemirror_mode": {
    "name": "ipython",
    "version": 3
   },
   "file_extension": ".py",
   "mimetype": "text/x-python",
   "name": "python",
   "nbconvert_exporter": "python",
   "pygments_lexer": "ipython3",
   "version": "3.9.10"
  }
 },
 "nbformat": 4,
 "nbformat_minor": 2
}
